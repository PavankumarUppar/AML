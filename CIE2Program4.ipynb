{
  "nbformat": 4,
  "nbformat_minor": 0,
  "metadata": {
    "colab": {
      "provenance": [],
      "authorship_tag": "ABX9TyNZeaWS4/BWikR2yDLYAbrN",
      "include_colab_link": true
    },
    "kernelspec": {
      "name": "python3",
      "display_name": "Python 3"
    },
    "language_info": {
      "name": "python"
    }
  },
  "cells": [
    {
      "cell_type": "markdown",
      "metadata": {
        "id": "view-in-github",
        "colab_type": "text"
      },
      "source": [
        "<a href=\"https://colab.research.google.com/github/PavankumarUppar/AML/blob/main/CIE2Program4.ipynb\" target=\"_parent\"><img src=\"https://colab.research.google.com/assets/colab-badge.svg\" alt=\"Open In Colab\"/></a>"
      ]
    },
    {
      "cell_type": "code",
      "execution_count": 1,
      "metadata": {
        "colab": {
          "base_uri": "https://localhost:8080/"
        },
        "id": "ng7kKZbA_RCc",
        "outputId": "92254315-9020-46c1-c80e-89705e304bbd"
      },
      "outputs": [
        {
          "output_type": "stream",
          "name": "stdout",
          "text": [
            "   longitude  latitude  housing_median_age  median_house_value  \\\n",
            "0    -122.23     37.88                41.0            452600.0   \n",
            "1    -122.22     37.86                21.0            358500.0   \n",
            "2    -122.24     37.85                52.0            352100.0   \n",
            "3    -122.25     37.85                52.0            341300.0   \n",
            "4    -122.25     37.85                52.0            342200.0   \n",
            "\n",
            "   rooms_per_household  bedrooms_per_room  population_per_household  \\\n",
            "0             6.984127           0.146591                  2.555556   \n",
            "1             6.238137           0.155797                  2.109842   \n",
            "2             8.288136           0.129516                  2.802260   \n",
            "3             5.817352           0.184458                  2.547945   \n",
            "4             6.281853           0.172096                  2.181467   \n",
            "\n",
            "   rooms_per_household_bin  ocean_proximity_0  ocean_proximity_1  \\\n",
            "0                 7.104916                  0                  0   \n",
            "1                 7.104916                  0                  0   \n",
            "2                 7.104916                  0                  0   \n",
            "3                 6.070218                  0                  0   \n",
            "4                 5.341335                  0                  0   \n",
            "\n",
            "   ocean_proximity_2  ocean_proximity_3  ocean_proximity_4  \n",
            "0                  0                  1                  0  \n",
            "1                  0                  1                  0  \n",
            "2                  0                  1                  0  \n",
            "3                  0                  1                  0  \n",
            "4                  0                  1                  0  \n"
          ]
        }
      ],
      "source": [
        "import pandas as pd\n",
        "import numpy as np\n",
        "from sklearn.preprocessing import LabelEncoder\n",
        "\n",
        "# Read the dataset\n",
        "df = pd.read_csv('https://raw.githubusercontent.com/ageron/handson-ml2/master/datasets/housing/housing.csv')\n",
        "\n",
        "# Data cleaning: Handling missing values\n",
        "df['total_bedrooms'].fillna(df['total_bedrooms'].median(), inplace=True)\n",
        "\n",
        "# Data integration: Creating new features\n",
        "df['rooms_per_household'] = df['total_rooms'] / df['households']\n",
        "df['bedrooms_per_room'] = df['total_bedrooms'] / df['total_rooms']\n",
        "df['population_per_household'] = df['population'] / df['households']\n",
        "\n",
        "# Data transformation: Encoding categorical variables\n",
        "label_encoder = LabelEncoder()\n",
        "df['ocean_proximity'] = label_encoder.fit_transform(df['ocean_proximity'])\n",
        "\n",
        "# Data cleaning: Removing outliers\n",
        "df = df[(np.abs(df['median_house_value'] - df['median_house_value'].mean()) / df['median_house_value'].std()) < 3]\n",
        "\n",
        "# Data transformation: Binning continuous variables\n",
        "df['income_cat'] = pd.cut(df['median_income'], bins=[0, 1.5, 3.0, 4.5, 6, np.inf], labels=[1, 2, 3, 4, 5])\n",
        "\n",
        "# Data integration: Aggregating features\n",
        "df['rooms_per_household_bin'] = df.groupby('income_cat')['rooms_per_household'].transform('mean')\n",
        "\n",
        "# Data cleaning: Removing unnecessary columns\n",
        "df.drop(['total_rooms', 'total_bedrooms', 'population', 'households', 'median_income', 'income_cat'], axis=1, inplace=True)\n",
        "\n",
        "# Data transformation: One-hot encoding\n",
        "df = pd.get_dummies(df, columns=['ocean_proximity'])\n",
        "\n",
        "# Print the preprocessed dataset\n",
        "print(df.head())"
      ]
    }
  ]
}