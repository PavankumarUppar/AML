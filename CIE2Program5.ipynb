{
  "nbformat": 4,
  "nbformat_minor": 0,
  "metadata": {
    "colab": {
      "provenance": [],
      "authorship_tag": "ABX9TyM/2W+PW/qJ+7Vkr491HCk9",
      "include_colab_link": true
    },
    "kernelspec": {
      "name": "python3",
      "display_name": "Python 3"
    },
    "language_info": {
      "name": "python"
    }
  },
  "cells": [
    {
      "cell_type": "markdown",
      "metadata": {
        "id": "view-in-github",
        "colab_type": "text"
      },
      "source": [
        "<a href=\"https://colab.research.google.com/github/PavankumarUppar/AML/blob/main/CIE2Program5.ipynb\" target=\"_parent\"><img src=\"https://colab.research.google.com/assets/colab-badge.svg\" alt=\"Open In Colab\"/></a>"
      ]
    },
    {
      "cell_type": "code",
      "execution_count": 7,
      "metadata": {
        "colab": {
          "base_uri": "https://localhost:8080/"
        },
        "id": "kUkCHb55_lXI",
        "outputId": "b37c8b2c-ddf1-4ab1-d69b-ec0045ca1f47"
      },
      "outputs": [
        {
          "output_type": "stream",
          "name": "stdout",
          "text": [
            "     sky airTemp humidity    wind water forecast enjoySport\n",
            "0  Sunny    Warm   Normal  Strong  Warm     Same        Yes\n",
            "1  Sunny    Warm     High  Strong  Warm     Same        Yes\n",
            "2  Rainy    Cold     High  Strong  Warm   Change         No\n",
            "3  Sunny    Warm     High  Strong  Cool   Change        Yes\n",
            "[['Sunny' 'Warm' 'Normal' 'Strong' 'Warm' 'Same']\n",
            " ['Sunny' 'Warm' 'High' 'Strong' 'Warm' 'Same']\n",
            " ['Rainy' 'Cold' 'High' 'Strong' 'Warm' 'Change']\n",
            " ['Sunny' 'Warm' 'High' 'Strong' 'Cool' 'Change']]\n",
            "['Yes' 'Yes' 'No' 'Yes']\n",
            "\n",
            "Initialization of specific_h and general_h\n",
            "['Sunny' 'Warm' 'Normal' 'Strong' 'Warm' 'Same']\n",
            "[['?', '?', '?', '?', '?', '?'], ['?', '?', '?', '?', '?', '?'], ['?', '?', '?', '?', '?', '?'], ['?', '?', '?', '?', '?', '?'], ['?', '?', '?', '?', '?', '?'], ['?', '?', '?', '?', '?', '?']]\n",
            "\n",
            "Steps of Candidate Elimination Algorithm 1\n",
            "['Sunny' 'Warm' 'Normal' 'Strong' 'Warm' 'Same']\n",
            "[['?', '?', '?', '?', '?', '?'], ['?', '?', '?', '?', '?', '?'], ['?', '?', '?', '?', '?', '?'], ['?', '?', '?', '?', '?', '?'], ['?', '?', '?', '?', '?', '?'], ['?', '?', '?', '?', '?', '?']]\n",
            "\n",
            "Steps of Candidate Elimination Algorithm 2\n",
            "['Sunny' 'Warm' '?' 'Strong' 'Warm' 'Same']\n",
            "[['?', '?', '?', '?', '?', '?'], ['?', '?', '?', '?', '?', '?'], ['?', '?', '?', '?', '?', '?'], ['?', '?', '?', '?', '?', '?'], ['?', '?', '?', '?', '?', '?'], ['?', '?', '?', '?', '?', '?']]\n",
            "\n",
            "Steps of Candidate Elimination Algorithm 3\n",
            "['Sunny' 'Warm' '?' 'Strong' 'Warm' 'Same']\n",
            "[['Sunny', '?', '?', '?', '?', '?'], ['?', 'Warm', '?', '?', '?', '?'], ['?', '?', '?', '?', '?', '?'], ['?', '?', '?', '?', '?', '?'], ['?', '?', '?', '?', '?', '?'], ['?', '?', '?', '?', '?', 'Same']]\n",
            "\n",
            "Steps of Candidate Elimination Algorithm 4\n",
            "['Sunny' 'Warm' '?' 'Strong' '?' '?']\n",
            "[['Sunny', '?', '?', '?', '?', '?'], ['?', 'Warm', '?', '?', '?', '?'], ['?', '?', '?', '?', '?', '?'], ['?', '?', '?', '?', '?', '?'], ['?', '?', '?', '?', '?', '?'], ['?', '?', '?', '?', '?', '?']]\n",
            "\n",
            "Final Specific_h:\n",
            "['Sunny' 'Warm' '?' 'Strong' '?' '?']\n",
            "\n",
            "Final General_h:\n",
            "[['Sunny', '?', '?', '?', '?', '?'], ['?', 'Warm', '?', '?', '?', '?']]\n"
          ]
        }
      ],
      "source": [
        "import numpy as np\n",
        "import pandas as pd\n",
        "\n",
        "data = pd.DataFrame(data=pd.read_csv('trainingdata.csv'))\n",
        "print(data)\n",
        "\n",
        "concepts = np.array(data.iloc[:, 0:-1])\n",
        "print(concepts)\n",
        "\n",
        "target = np.array(data.iloc[:, -1])\n",
        "print(target)\n",
        "\n",
        "def learn(concepts, target):\n",
        "    specific_h = concepts[0].copy()\n",
        "    print(\"\\nInitialization of specific_h and general_h\")\n",
        "    print(specific_h)\n",
        "\n",
        "    general_h = [[\"?\" for _ in range(len(specific_h))] for _ in range(len(specific_h))]\n",
        "    print(general_h)\n",
        "\n",
        "    for i, h in enumerate(concepts):\n",
        "        if target[i] == \"Yes\":\n",
        "            for x in range(len(specific_h)):\n",
        "                if h[x] != specific_h[x]:\n",
        "                    specific_h[x] = '?'\n",
        "                    general_h[x][x] = '?'\n",
        "\n",
        "        if target[i] == \"No\":\n",
        "            for x in range(len(specific_h)):\n",
        "                if h[x] != specific_h[x]:\n",
        "                    general_h[x][x] = specific_h[x]\n",
        "                else:\n",
        "                    general_h[x][x] = '?'\n",
        "\n",
        "        print(\"\\nSteps of Candidate Elimination Algorithm\", i + 1)\n",
        "        print(specific_h)\n",
        "        print(general_h)\n",
        "\n",
        "    indices = [i for i, val in enumerate(general_h) if val == ['?', '?', '?', '?', '?', '?']]\n",
        "    for i in indices:\n",
        "        general_h.remove(['?', '?', '?', '?', '?', '?'])\n",
        "\n",
        "    return specific_h, general_h\n",
        "\n",
        "s_final, g_final = learn(concepts, target)\n",
        "print(\"\\nFinal Specific_h:\")\n",
        "print(s_final)\n",
        "print(\"\\nFinal General_h:\")\n",
        "print(g_final)\n"
      ]
    },
    {
      "cell_type": "code",
      "source": [],
      "metadata": {
        "id": "F7ED8HBD_qTB"
      },
      "execution_count": null,
      "outputs": []
    }
  ]
}