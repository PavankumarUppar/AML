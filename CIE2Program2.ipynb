{
  "nbformat": 4,
  "nbformat_minor": 0,
  "metadata": {
    "colab": {
      "provenance": [],
      "authorship_tag": "ABX9TyNGNynEozTaVqupFQO4/zDp",
      "include_colab_link": true
    },
    "kernelspec": {
      "name": "python3",
      "display_name": "Python 3"
    },
    "language_info": {
      "name": "python"
    }
  },
  "cells": [
    {
      "cell_type": "markdown",
      "metadata": {
        "id": "view-in-github",
        "colab_type": "text"
      },
      "source": [
        "<a href=\"https://colab.research.google.com/github/PavankumarUppar/AML/blob/main/CIE2Program2.ipynb\" target=\"_parent\"><img src=\"https://colab.research.google.com/assets/colab-badge.svg\" alt=\"Open In Colab\"/></a>"
      ]
    },
    {
      "cell_type": "code",
      "execution_count": 1,
      "metadata": {
        "colab": {
          "base_uri": "https://localhost:8080/"
        },
        "id": "gK16hUxA9qau",
        "outputId": "da3971ae-57fb-44d6-c1cc-5acdcdee02ff"
      },
      "outputs": [
        {
          "output_type": "stream",
          "name": "stdout",
          "text": [
            "Epoch 0, Loss: 0.26330018043518066\n",
            "Epoch 100, Loss: 0.25135907530784607\n",
            "Epoch 200, Loss: 0.2501084804534912\n",
            "Epoch 300, Loss: 0.24970155954360962\n",
            "Epoch 400, Loss: 0.24938198924064636\n",
            "Epoch 500, Loss: 0.24909082055091858\n",
            "Epoch 600, Loss: 0.24881821870803833\n",
            "Epoch 700, Loss: 0.24855853617191315\n",
            "Epoch 800, Loss: 0.2483070194721222\n",
            "Epoch 900, Loss: 0.24805960059165955\n",
            "Predictions:\n",
            "tf.Tensor(\n",
            "[[0.47444764]\n",
            " [0.4907047 ]\n",
            " [0.51574117]\n",
            " [0.5217964 ]], shape=(4, 1), dtype=float32)\n"
          ]
        }
      ],
      "source": [
        "import numpy as np\n",
        "import tensorflow as tf\n",
        "\n",
        "class NeuralNetwork:\n",
        "    def __init__(self, input_size, hidden_size, output_size):\n",
        "        self.input_size = input_size\n",
        "        self.hidden_size = hidden_size\n",
        "        self.output_size = output_size\n",
        "        # Initialize weights and biases\n",
        "        self.W1 = tf.Variable(tf.random.normal([self.input_size, self.hidden_size]))\n",
        "        self.b1 = tf.Variable(tf.random.normal([self.hidden_size]))\n",
        "        self.W2 = tf.Variable(tf.random.normal([self.hidden_size, self.output_size]))\n",
        "        self.b2 = tf.Variable(tf.random.normal([self.output_size]))\n",
        "\n",
        "    def forward_pass(self, X):\n",
        "        # Hidden layer\n",
        "        self.z1 = tf.matmul(X, self.W1) + self.b1\n",
        "        self.a1 = tf.nn.sigmoid(self.z1)\n",
        "        # Output layer\n",
        "        self.z2 = tf.matmul(self.a1, self.W2) + self.b2\n",
        "        self.a2 = tf.nn.sigmoid(self.z2)\n",
        "        return self.a2\n",
        "\n",
        "    def backward_pass(self, X, y, learning_rate):\n",
        "        with tf.GradientTape() as tape:\n",
        "            # Forward pass\n",
        "            outputs = self.forward_pass(X)\n",
        "            # Compute loss\n",
        "            loss = tf.reduce_mean(tf.losses.mean_squared_error(y, outputs))\n",
        "            # Compute gradients\n",
        "            dLoss_dW1, dLoss_db1, dLoss_dW2, dLoss_db2 = tape.gradient(loss, [self.W1, self.b1,\n",
        "                                                                             self.W2, self.b2])\n",
        "            # Update weights and biases\n",
        "            self.W1.assign_sub(learning_rate * dLoss_dW1)\n",
        "            self.b1.assign_sub(learning_rate * dLoss_db1)\n",
        "            self.W2.assign_sub(learning_rate * dLoss_dW2)\n",
        "            self.b2.assign_sub(learning_rate * dLoss_db2)\n",
        "\n",
        "    def train(self, X, y, epochs, learning_rate):\n",
        "        for epoch in range(epochs):\n",
        "            self.backward_pass(X, y, learning_rate)\n",
        "            if epoch % 100 == 0:\n",
        "                outputs = self.forward_pass(X)\n",
        "                loss = tf.reduce_mean(tf.losses.mean_squared_error(y, outputs))\n",
        "                print(f\"Epoch {epoch}, Loss: {loss}\")\n",
        "\n",
        "# XOR dataset\n",
        "X = np.array([[0, 0], [0, 1], [1, 0], [1, 1]], dtype=np.float32)\n",
        "y = np.array([[0], [1], [1], [0]], dtype=np.float32)\n",
        "\n",
        "# Create and train the neural network\n",
        "nn = NeuralNetwork(input_size=2, hidden_size=2, output_size=1)\n",
        "nn.train(X, y, epochs=1000, learning_rate=0.1)\n",
        "\n",
        "# Test the trained network\n",
        "outputs = nn.forward_pass(X)\n",
        "print(\"Predictions:\")\n",
        "print(outputs)\n"
      ]
    }
  ]
}