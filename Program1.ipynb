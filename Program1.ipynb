{
  "nbformat": 4,
  "nbformat_minor": 0,
  "metadata": {
    "colab": {
      "provenance": [],
      "authorship_tag": "ABX9TyM3VFSHqpr7zin38JKokLWq",
      "include_colab_link": true
    },
    "kernelspec": {
      "name": "python3",
      "display_name": "Python 3"
    },
    "language_info": {
      "name": "python"
    }
  },
  "cells": [
    {
      "cell_type": "markdown",
      "metadata": {
        "id": "view-in-github",
        "colab_type": "text"
      },
      "source": [
        "<a href=\"https://colab.research.google.com/github/PavankumarUppar/AML/blob/main/Program1.ipynb\" target=\"_parent\"><img src=\"https://colab.research.google.com/assets/colab-badge.svg\" alt=\"Open In Colab\"/></a>"
      ]
    },
    {
      "cell_type": "code",
      "execution_count": 1,
      "metadata": {
        "colab": {
          "base_uri": "https://localhost:8080/"
        },
        "id": "34DYIMFOVknO",
        "outputId": "077e0915-0baf-4cf9-c2b8-c316c2223134"
      },
      "outputs": [
        {
          "output_type": "stream",
          "name": "stdout",
          "text": [
            "Classification: Yes\n"
          ]
        }
      ],
      "source": [
        "import pandas as pd\n",
        "import numpy as np\n",
        "\n",
        "# Define the dataset\n",
        "data = {\n",
        "    'Outlook': ['Sunny', 'Sunny', 'Overcast', 'Rainy', 'Rainy', 'Rainy', 'Overcast', 'Sunny', 'Sunny', 'Rainy', 'Sunny', 'Overcast', 'Overcast', 'Rainy'],\n",
        "    'Temperature': ['Hot', 'Hot', 'Hot', 'Mild', 'Cool', 'Cool', 'Cool', 'Mild', 'Cool', 'Mild', 'Mild', 'Mild', 'Hot', 'Mild'],\n",
        "    'Humidity': ['High', 'High', 'High', 'High', 'Normal', 'Normal', 'Normal', 'High', 'Normal', 'Normal', 'Normal', 'High', 'Normal', 'High'],\n",
        "    'Windy': [False, True, False, False, False, True, True, False, False, False, True, True, False, True],\n",
        "    'PlayGame': ['No', 'No', 'Yes', 'Yes', 'Yes', 'No', 'Yes', 'No', 'Yes', 'Yes', 'Yes', 'Yes', 'Yes', 'No']\n",
        "}\n",
        "\n",
        "df = pd.DataFrame(data)\n",
        "\n",
        "def entropy(target_col):\n",
        "    elements, counts = np.unique(target_col, return_counts=True)\n",
        "    entropy = np.sum([-counts[i] / np.sum(counts) * np.log2(counts[i] / np.sum(counts)) for i in range(len(elements))])\n",
        "    return entropy\n",
        "\n",
        "def InfoGain(data, split_attribute_name, target_name):\n",
        "    total_entropy = entropy(data[target_name])\n",
        "    vals, counts = np.unique(data[split_attribute_name], return_counts=True)\n",
        "    weighted_entropy = np.sum([(counts[i] / np.sum(counts)) * entropy(data.where(data[split_attribute_name] == vals[i]).dropna()[target_name]) for i in range(len(vals))])\n",
        "    information_gain = total_entropy - weighted_entropy\n",
        "    return information_gain\n",
        "\n",
        "def ID3(data, original_data, features, target_attribute_name, parent_node_class=None):\n",
        "    if len(np.unique(data[target_attribute_name])) == 1:\n",
        "        return np.unique(data[target_attribute_name])[0]\n",
        "    elif len(data) == 0:\n",
        "        return np.unique(original_data[target_attribute_name])[np.argmax(np.unique(original_data[target_attribute_name], return_counts=True)[1])]\n",
        "    elif len(features) == 0:\n",
        "        return parent_node_class\n",
        "    else:\n",
        "        parent_node_class = np.unique(data[target_attribute_name])[np.argmax(np.unique(data[target_attribute_name], return_counts=True)[1])]\n",
        "        item_values = [InfoGain(data, feature, target_attribute_name) for feature in features]\n",
        "        best_feature_index = np.argmax(item_values)\n",
        "        best_feature = features[best_feature_index]\n",
        "        tree = {best_feature: {}}\n",
        "        features = [i for i in features if i != best_feature]\n",
        "        for value in np.unique(data[best_feature]):\n",
        "            value = value\n",
        "            sub_data = data.where(data[best_feature] == value).dropna()\n",
        "            subtree = ID3(sub_data, data, features, target_attribute_name, parent_node_class)\n",
        "            tree[best_feature][value] = subtree\n",
        "        return tree\n",
        "\n",
        "# Building the Decision Tree\n",
        "target_attribute_name = 'PlayGame'\n",
        "features = ['Outlook', 'Temperature', 'Humidity', 'Windy']\n",
        "decision_tree = ID3(df, df, features, target_attribute_name)\n",
        "\n",
        "def classify(sample, tree, default):\n",
        "    attribute = next(iter(tree))\n",
        "    if sample[attribute] in tree[attribute].keys():\n",
        "        result = tree[attribute][sample[attribute]]\n",
        "        if isinstance(result, dict):\n",
        "            return classify(sample, result, default)\n",
        "        else:\n",
        "            return result\n",
        "    else:\n",
        "        return default\n",
        "\n",
        "new_sample = {\n",
        "    'Outlook': 'Sunny',\n",
        "    'Temperature': 'Cool',\n",
        "    'Humidity': 'Normal',\n",
        "    'Windy': False\n",
        "}\n",
        "\n",
        "classification = classify(new_sample, decision_tree, 'No decision')\n",
        "print('Classification:', classification)\n"
      ]
    }
  ]
}